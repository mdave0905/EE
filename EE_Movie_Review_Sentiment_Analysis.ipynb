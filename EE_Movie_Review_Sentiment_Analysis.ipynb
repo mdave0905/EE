{
  "nbformat": 4,
  "nbformat_minor": 0,
  "metadata": {
    "colab": {
      "name": "EE Movie Review Sentiment Analysis.ipynb",
      "provenance": [],
      "mount_file_id": "1OzdnYDSTfuj0SpV1LS6W4dENuAhIP2cC",
      "authorship_tag": "ABX9TyO16Vl0mTXG0UfJlyLY68Lg",
      "include_colab_link": true
    },
    "kernelspec": {
      "name": "python3",
      "display_name": "Python 3"
    },
    "language_info": {
      "name": "python"
    },
    "accelerator": "TPU"
  },
  "cells": [
    {
      "cell_type": "markdown",
      "metadata": {
        "id": "view-in-github",
        "colab_type": "text"
      },
      "source": [
        "<a href=\"https://colab.research.google.com/github/mdave0905/EE/blob/main/EE_Movie_Review_Sentiment_Analysis.ipynb\" target=\"_parent\"><img src=\"https://colab.research.google.com/assets/colab-badge.svg\" alt=\"Open In Colab\"/></a>"
      ]
    },
    {
      "cell_type": "code",
      "metadata": {
        "id": "VERLOtNw4cQh"
      },
      "source": [
        "import pandas as pd\n",
        "import numpy as np\n",
        "import re\n",
        "import nltk\n",
        "import tensorflow as tf\n",
        "from nltk.corpus import stopwords\n",
        "\n",
        "from numpy import array\n",
        "from keras.preprocessing.text import one_hot\n",
        "from keras.preprocessing.sequence import pad_sequences\n",
        "from keras.models import Sequential\n",
        "from keras.layers.core import Activation, Dropout, Dense\n",
        "from keras.layers import Flatten\n",
        "from keras.layers import GlobalMaxPooling1D\n",
        "from keras.layers.embeddings import Embedding\n",
        "from sklearn.model_selection import train_test_split\n",
        "from keras.preprocessing.text import Tokenizer"
      ],
      "execution_count": null,
      "outputs": []
    },
    {
      "cell_type": "code",
      "metadata": {
        "colab": {
          "base_uri": "https://localhost:8080/"
        },
        "id": "cYLMueKO4spk",
        "outputId": "4a77cc00-6820-469d-ec27-197cb120929e"
      },
      "source": [
        "movie_reviews = pd.read_csv(\"drive/MyDrive/IMDB Dataset.csv\")\n",
        "\n",
        "movie_reviews.isnull().values.any()\n",
        "\n",
        "movie_reviews.shape"
      ],
      "execution_count": null,
      "outputs": [
        {
          "output_type": "execute_result",
          "data": {
            "text/plain": [
              "(50000, 2)"
            ]
          },
          "metadata": {},
          "execution_count": 3
        }
      ]
    },
    {
      "cell_type": "code",
      "metadata": {
        "id": "Hmgr-7GzAHmD"
      },
      "source": [
        "y = movie_reviews['sentiment']\n",
        "\n",
        "y = np.array(list(map(lambda x: 1 if x==\"positive\" else 0, y)))"
      ],
      "execution_count": null,
      "outputs": []
    },
    {
      "cell_type": "code",
      "metadata": {
        "colab": {
          "base_uri": "https://localhost:8080/",
          "height": 298
        },
        "id": "8JgTRKxzUHZR",
        "outputId": "917e1e79-6091-4ef9-fb4e-0b519c24d809"
      },
      "source": [
        "import seaborn as sns\n",
        "\n",
        "sns.countplot(y='sentiment', data=movie_reviews)"
      ],
      "execution_count": null,
      "outputs": [
        {
          "output_type": "execute_result",
          "data": {
            "text/plain": [
              "<matplotlib.axes._subplots.AxesSubplot at 0x7f92ca291f50>"
            ]
          },
          "metadata": {},
          "execution_count": 5
        },
        {
          "output_type": "display_data",
          "data": {
            "image/png": "[encoded data removed]",
            "text/plain": [
              "<Figure size 432x288 with 1 Axes>"
            ]
          },
          "metadata": {
            "needs_background": "light"
          }
        }
      ]
    },
    {
      "cell_type": "code",
      "metadata": {
        "id": "dNFw4UQfIYKe"
      },
      "source": [
        "def preprocess_text(sen):\n",
        "    # Removing html tags\n",
        "    sentence = remove_tags(sen)\n",
        "\n",
        "    # Remove punctuations and numbers\n",
        "    sentence = re.sub('[^a-zA-Z]', ' ', sentence)\n",
        "\n",
        "    # Single character removal\n",
        "    sentence = re.sub(r\"\\s+[a-zA-Z]\\s+\", ' ', sentence)\n",
        "\n",
        "    # Removing multiple spaces\n",
        "    sentence = re.sub(r'\\s+', ' ', sentence)\n",
        "\n",
        "    return sentence"
      ],
      "execution_count": null,
      "outputs": []
    },
    {
      "cell_type": "code",
      "metadata": {
        "id": "kyvVaiN6IcM_"
      },
      "source": [
        "TAG_RE = re.compile(r'<[^>]+>')\n",
        "\n",
        "def remove_tags(text):\n",
        "    return TAG_RE.sub('', text)"
      ],
      "execution_count": null,
      "outputs": []
    },
    {
      "cell_type": "code",
      "metadata": {
        "id": "_MdlUNyeHxXe"
      },
      "source": [
        "X = []\n",
        "sentences = list(movie_reviews['review'])\n",
        "for sen in sentences:\n",
        "    X.append(preprocess_text(sen))"
      ],
      "execution_count": null,
      "outputs": []
    },
    {
      "cell_type": "code",
      "metadata": {
        "id": "m8ZfeOpLtj-L"
      },
      "source": [
        "y = movie_reviews['sentiment']\n",
        "\n",
        "y = np.array(list(map(lambda x: 1 if x==\"positive\" else 0, y)))"
      ],
      "execution_count": null,
      "outputs": []
    },
    {
      "cell_type": "code",
      "metadata": {
        "id": "V9B0BYAzzFqv"
      },
      "source": [
        "X_train, X_test, y_train, y_test = train_test_split(X, y, test_size=0.20, random_state=42)"
      ],
      "execution_count": null,
      "outputs": []
    },
    {
      "cell_type": "code",
      "metadata": {
        "id": "LfQkddjQ1Mxe"
      },
      "source": [
        "tokenizer = Tokenizer(num_words=5000)\n",
        "tokenizer.fit_on_texts(X_train)\n",
        "X_train = tokenizer.texts_to_sequences(X_train)\n",
        "X_test = tokenizer.texts_to_sequences(X_test)"
      ],
      "execution_count": null,
      "outputs": []
    },
    {
      "cell_type": "code",
      "metadata": {
        "colab": {
          "base_uri": "https://localhost:8080/"
        },
        "id": "QGbWpFg0v3Q1",
        "outputId": "ba8fdf8e-9763-499a-ff37-b31fc43a1042"
      },
      "source": [
        "print(X_train[0])"
      ],
      "execution_count": null,
      "outputs": [
        {
          "output_type": "stream",
          "text": [
            "[9, 43, 786, 2121, 524, 299, 1, 104, 1860, 1989, 4281, 2, 782, 4786, 9, 1, 224, 1, 77, 763, 51, 49, 17, 97, 3, 1, 24, 1968, 98, 31, 23, 32, 116, 1101, 9, 6, 5, 2323, 1163, 4, 449, 43, 540, 4, 88, 28, 20, 37, 892, 397, 13, 1, 154, 4, 2935, 22, 4318, 18, 2897, 9, 42, 71, 218, 69, 123, 7, 76, 3100, 193, 18, 232, 2, 1, 427, 198, 4888, 147, 19, 60, 24, 13, 70, 358, 299, 16, 15, 6, 198, 25, 302, 9, 11, 1, 1820, 112, 413, 2, 11, 1, 1651, 562, 67, 419, 373, 82, 114, 43, 110, 361, 28, 33, 15, 41, 10, 88, 441, 13, 357, 1145, 59, 7, 1, 460, 214, 992, 4, 4124, 7, 174, 3, 32, 433, 680, 607, 9, 66, 227, 233, 107, 830, 33, 169, 27, 217, 9, 1, 423, 360, 53, 3696, 273, 157, 1672, 187, 5, 1, 711, 1904, 1, 1177, 3, 2838, 3672, 1652, 2, 144, 147, 225, 3, 203, 320, 2, 147, 1052, 14, 85, 3, 131, 2790, 15, 152, 95, 3, 1, 3974, 299, 8, 12, 975, 33, 1, 485, 2567, 242, 66, 72, 104, 104, 678, 57, 80, 66, 148, 1331, 4, 223, 131, 20, 4319, 29, 137, 205, 1123, 11, 4341, 29, 2276, 2, 7, 8, 5, 438, 11, 610, 3, 1, 703, 2915, 1, 1248, 2, 66, 3571, 1, 154, 1477, 1, 1217, 4, 1584, 1, 862, 1225, 4, 1, 296, 140, 2854, 2, 405, 614, 1, 263, 5, 3514, 977, 4, 25, 37, 11, 1237, 215, 62, 2, 35, 5, 27, 217, 24, 189, 1430, 7, 1068, 15, 4868, 81, 1, 221, 63, 351, 64, 52, 24, 4, 3547, 13, 6, 19, 192, 4, 859, 3430, 1720, 17, 23, 4, 158, 194, 175, 106, 9, 1604, 461, 71, 218, 4, 321, 2, 3431, 31, 20, 47, 68, 1844, 4668, 11, 6, 1365, 8, 16, 5, 3475, 1990, 14, 59, 1, 2380, 460, 518, 2, 170, 2524, 2698, 1745, 4, 573, 6, 33, 1, 3750, 198, 345, 3812]\n"
          ],
          "name": "stdout"
        }
      ]
    },
    {
      "cell_type": "code",
      "metadata": {
        "id": "BcJ8GZfT5_US"
      },
      "source": [
        "# Adding 1 because of reserved 0 index\n",
        "vocab_size = len(tokenizer.word_index) + 1\n",
        "\n",
        "maxlen = 120\n",
        "\n",
        "X_train = pad_sequences(X_train, padding='post', maxlen=maxlen)\n",
        "X_test = pad_sequences(X_test, padding='post', maxlen=maxlen)"
      ],
      "execution_count": null,
      "outputs": []
    },
    {
      "cell_type": "code",
      "metadata": {
        "id": "BNhXZlpO6CPk"
      },
      "source": [
        "from numpy import array\n",
        "from numpy import asarray\n",
        "from numpy import zeros\n",
        "\n",
        "embeddings_dictionary = dict()\n",
        "glove_file = open('drive/MyDrive/glove.6B.100d.txt', encoding=\"utf8\")\n",
        "\n",
        "for line in glove_file:\n",
        "    records = line.split()\n",
        "    word = records[0]\n",
        "    vector_dimensions = asarray(records[1:], dtype='float32')\n",
        "    embeddings_dictionary [word] = vector_dimensions\n",
        "glove_file.close()"
      ],
      "execution_count": null,
      "outputs": []
    },
    {
      "cell_type": "code",
      "metadata": {
        "id": "GXcMz2etdA2E"
      },
      "source": [
        "embedding_matrix = zeros((vocab_size, 100))\n",
        "for word, index in tokenizer.word_index.items():\n",
        "    embedding_vector = embeddings_dictionary.get(word)\n",
        "    if embedding_vector is not None:\n",
        "        embedding_matrix[index] = embedding_vector"
      ],
      "execution_count": null,
      "outputs": []
    },
    {
      "cell_type": "code",
      "metadata": {
        "id": "k3zdKLcPdcOf"
      },
      "source": [
        "model = Sequential()\n",
        "embedding_layer = Embedding(vocab_size, 100, weights=[embedding_matrix], input_length=maxlen , trainable=False)\n",
        "model.add(embedding_layer)\n",
        "model.add(tf.keras.layers.LSTM(128))\n",
        "\n",
        "model.add(Dense(1, activation='sigmoid'))\n",
        "model.compile(optimizer='adam', loss='binary_crossentropy', metrics=['acc'])"
      ],
      "execution_count": null,
      "outputs": []
    },
    {
      "cell_type": "code",
      "metadata": {
        "colab": {
          "base_uri": "https://localhost:8080/"
        },
        "id": "bYJQB85pdyL2",
        "outputId": "9ace5e52-0a82-4166-8e64-f207a83aa039"
      },
      "source": [
        "history = model.fit(X_train, y_train, batch_size=128, epochs=20, verbose=2, validation_split=0.2)\n",
        "\n",
        "score = model.evaluate(X_test, y_test, verbose=2)"
      ],
      "execution_count": null,
      "outputs": [
        {
          "output_type": "stream",
          "text": [
            "Epoch 1/20\n",
            "250/250 - 103s - loss: 0.5397 - acc: 0.7288 - val_loss: 0.4729 - val_acc: 0.7895\n",
            "Epoch 2/20\n",
            "250/250 - 98s - loss: 0.4447 - acc: 0.7956 - val_loss: 0.3935 - val_acc: 0.8257\n",
            "Epoch 3/20\n",
            "250/250 - 99s - loss: 0.3912 - acc: 0.8275 - val_loss: 0.3558 - val_acc: 0.8394\n",
            "Epoch 4/20\n",
            "250/250 - 99s - loss: 0.3482 - acc: 0.8482 - val_loss: 0.3373 - val_acc: 0.8571\n",
            "Epoch 5/20\n",
            "250/250 - 98s - loss: 0.3333 - acc: 0.8557 - val_loss: 0.3271 - val_acc: 0.8562\n",
            "Epoch 6/20\n",
            "250/250 - 99s - loss: 0.3131 - acc: 0.8653 - val_loss: 0.3321 - val_acc: 0.8571\n",
            "Epoch 7/20\n",
            "250/250 - 98s - loss: 0.2985 - acc: 0.8734 - val_loss: 0.3149 - val_acc: 0.8677\n",
            "Epoch 8/20\n",
            "250/250 - 98s - loss: 0.2788 - acc: 0.8837 - val_loss: 0.3322 - val_acc: 0.8609\n",
            "Epoch 9/20\n",
            "250/250 - 99s - loss: 0.2653 - acc: 0.8900 - val_loss: 0.3195 - val_acc: 0.8702\n",
            "Epoch 10/20\n",
            "250/250 - 97s - loss: 0.2491 - acc: 0.8985 - val_loss: 0.3249 - val_acc: 0.8566\n",
            "Epoch 11/20\n",
            "250/250 - 97s - loss: 0.2289 - acc: 0.9072 - val_loss: 0.3348 - val_acc: 0.8629\n",
            "Epoch 12/20\n",
            "250/250 - 97s - loss: 0.2116 - acc: 0.9146 - val_loss: 0.3310 - val_acc: 0.8626\n",
            "Epoch 13/20\n",
            "250/250 - 97s - loss: 0.1910 - acc: 0.9247 - val_loss: 0.3815 - val_acc: 0.8399\n",
            "Epoch 14/20\n",
            "250/250 - 97s - loss: 0.1757 - acc: 0.9315 - val_loss: 0.3574 - val_acc: 0.8601\n",
            "Epoch 15/20\n",
            "250/250 - 96s - loss: 0.1563 - acc: 0.9403 - val_loss: 0.3729 - val_acc: 0.8558\n",
            "Epoch 16/20\n",
            "250/250 - 96s - loss: 0.1350 - acc: 0.9505 - val_loss: 0.4081 - val_acc: 0.8541\n",
            "Epoch 17/20\n",
            "250/250 - 96s - loss: 0.1236 - acc: 0.9553 - val_loss: 0.4111 - val_acc: 0.8533\n",
            "Epoch 18/20\n",
            "250/250 - 95s - loss: 0.1049 - acc: 0.9641 - val_loss: 0.4617 - val_acc: 0.8428\n",
            "Epoch 19/20\n",
            "250/250 - 96s - loss: 0.0878 - acc: 0.9699 - val_loss: 0.5127 - val_acc: 0.8579\n",
            "Epoch 20/20\n",
            "250/250 - 95s - loss: 0.0764 - acc: 0.9745 - val_loss: 0.5885 - val_acc: 0.8494\n",
            "313/313 - 11s - loss: 0.5574 - acc: 0.8552\n"
          ],
          "name": "stdout"
        }
      ]
    },
    {
      "cell_type": "code",
      "metadata": {
        "colab": {
          "base_uri": "https://localhost:8080/"
        },
        "id": "ANGXUM1xDJUN",
        "outputId": "5e7cf780-fc10-4129-c9a2-ad0c177c16b0"
      },
      "source": [
        "print(\"Test Accuracy:\", score[1])"
      ],
      "execution_count": null,
      "outputs": [
        {
          "output_type": "stream",
          "text": [
            "Test Accuracy: 0.8551999926567078\n"
          ],
          "name": "stdout"
        }
      ]
    },
    {
      "cell_type": "code",
      "metadata": {
        "colab": {
          "base_uri": "https://localhost:8080/",
          "height": 573
        },
        "id": "57x6xBPnDW0t",
        "outputId": "6c4b87a3-6851-4873-b361-7455a2684fa5"
      },
      "source": [
        "import matplotlib.pyplot as plt\n",
        "\n",
        "plt.plot(history.history['acc'])\n",
        "plt.plot(history.history['val_acc'])\n",
        "\n",
        "plt.title('model accuracy for sigmoid')\n",
        "plt.ylabel('accuracy')\n",
        "plt.xlabel('epoch')\n",
        "plt.legend(['train','test'], loc='upper left')\n",
        "plt.show()\n",
        "\n",
        "plt.plot(history.history['loss'])\n",
        "plt.plot(history.history['val_loss'])\n",
        "\n",
        "plt.title('model loss')\n",
        "plt.ylabel('loss')\n",
        "plt.xlabel('epoch')\n",
        "plt.legend(['train','test'], loc='upper left')\n",
        "plt.show()"
      ],
      "execution_count": null,
      "outputs": [
        {
          "output_type": "display_data",
          "data": {
            "image/png": "[encoded data removed]",
            "text/plain": [
              "<Figure size 432x288 with 1 Axes>"
            ]
          },
          "metadata": {
            "needs_background": "light"
          }
        },
        {
          "output_type": "display_data",
          "data": {
            "image/png": "[encoded data removed]",
            "text/plain": [
              "<Figure size 432x288 with 1 Axes>"
            ]
          },
          "metadata": {
            "needs_background": "light"
          }
        }
      ]
    }
  ]
}